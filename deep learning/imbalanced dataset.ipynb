{
 "cells": [
  {
   "cell_type": "code",
   "execution_count": null,
   "metadata": {},
   "outputs": [],
   "source": []
  },
  {
   "cell_type": "code",
   "execution_count": 1,
   "metadata": {},
   "outputs": [],
   "source": [
    "### 1. undersampling majority class"
   ]
  },
  {
   "cell_type": "code",
   "execution_count": 2,
   "metadata": {},
   "outputs": [],
   "source": [
    "### 100000 green class , 1000 red then take only 1000 from green "
   ]
  },
  {
   "cell_type": "code",
   "execution_count": 3,
   "metadata": {},
   "outputs": [],
   "source": [
    "### oversamoling minority class by duplication"
   ]
  },
  {
   "cell_type": "code",
   "execution_count": 4,
   "metadata": {},
   "outputs": [],
   "source": [
    "## oversampling minority class using SMOTE"
   ]
  },
  {
   "cell_type": "code",
   "execution_count": 5,
   "metadata": {},
   "outputs": [],
   "source": [
    "##use k nearest neighbors to generate synthetic minority data "
   ]
  },
  {
   "cell_type": "code",
   "execution_count": 6,
   "metadata": {},
   "outputs": [],
   "source": [
    "### 4. ensemble method divide 3000 green in 1000 green and train each against 1000 red and finally do voting"
   ]
  },
  {
   "cell_type": "code",
   "execution_count": 7,
   "metadata": {},
   "outputs": [],
   "source": [
    "### 5. Focal loss"
   ]
  },
  {
   "cell_type": "code",
   "execution_count": 8,
   "metadata": {},
   "outputs": [],
   "source": [
    "### penalize majority more and weightage to minority "
   ]
  },
  {
   "cell_type": "code",
   "execution_count": 9,
   "metadata": {},
   "outputs": [],
   "source": [
    "### accuracy useless , what matters is we need higher f1 for each class"
   ]
  },
  {
   "cell_type": "code",
   "execution_count": 12,
   "metadata": {},
   "outputs": [],
   "source": [
    "import tensorflow as tf\n",
    "from tensorflow import keras"
   ]
  },
  {
   "cell_type": "code",
   "execution_count": 15,
   "metadata": {},
   "outputs": [],
   "source": [
    "import pandas as pd"
   ]
  },
  {
   "cell_type": "code",
   "execution_count": 13,
   "metadata": {},
   "outputs": [],
   "source": [
    "import numpy as np"
   ]
  },
  {
   "cell_type": "code",
   "execution_count": 16,
   "metadata": {},
   "outputs": [],
   "source": [
    "df_clean = pd.read_csv('clean_data_customer_churn.csv')"
   ]
  },
  {
   "cell_type": "code",
   "execution_count": 17,
   "metadata": {},
   "outputs": [],
   "source": [
    "df_clean = df_clean.drop(['customerID'] ,  axis ='columns')"
   ]
  },
  {
   "cell_type": "code",
   "execution_count": 18,
   "metadata": {},
   "outputs": [],
   "source": [
    "x = df_clean.drop(['Churn'] , axis = 'columns')\n",
    "y = df_clean['Churn']"
   ]
  },
  {
   "cell_type": "code",
   "execution_count": 19,
   "metadata": {},
   "outputs": [
    {
     "data": {
      "text/plain": [
       "(5625, 26)"
      ]
     },
     "execution_count": 19,
     "metadata": {},
     "output_type": "execute_result"
    }
   ],
   "source": [
    "from sklearn.model_selection import train_test_split\n",
    "x_train , x_test , y_train , y_test = train_test_split(x , y , test_size = 0.2 , random_state = 15)\n",
    "x_train.shape"
   ]
  },
  {
   "cell_type": "code",
   "execution_count": 22,
   "metadata": {},
   "outputs": [],
   "source": [
    "from sklearn.metrics import classification_report , confusion_matrix"
   ]
  },
  {
   "cell_type": "code",
   "execution_count": null,
   "metadata": {},
   "outputs": [],
   "source": []
  },
  {
   "cell_type": "code",
   "execution_count": 23,
   "metadata": {},
   "outputs": [],
   "source": [
    "def ANN(x_train , y_train , x_test , y_test , loss , weights):\n",
    "    model = keras.Sequential([\n",
    "    keras.layers.Dense(26 , input_shape = (26,) , activation = 'relu') , # input_layer \n",
    "    #keras.layers.Dense(15 , activation = 'relu') ,  # input_shape = (26,) acting as an  hidden layer\n",
    "    keras.layers.Dense(1, activation = 'sigmoid')\n",
    "    ])\n",
    "    \n",
    "    model.compile(optimizer = 'adam' ,\n",
    "             loss = 'binary_crossentropy' ,\n",
    "             metrics = ['accuracy'])\n",
    "    \n",
    "    if weights == -1:\n",
    "        model.fit(x_train , y_train , epochs = 10)\n",
    "    else:\n",
    "        model.fit(x_train , y_train , epochs = 10 , class_weights = weights)\n",
    "        \n",
    "    print(model.evaluate(x_test , y_test))\n",
    "    \n",
    "    y_pred = model.predict(x_test)\n",
    "    y_pred_binary = np.round(y_pred)\n",
    "    \n",
    "    print(\"Classification report :\\n \" , classification_report(y_test , y_pred_binary))\n",
    "    \n",
    "    return y_pred_binary"
   ]
  },
  {
   "cell_type": "code",
   "execution_count": 24,
   "metadata": {},
   "outputs": [
    {
     "name": "stdout",
     "output_type": "stream",
     "text": [
      "Epoch 1/10\n",
      "176/176 [==============================] - 4s 4ms/step - loss: 0.4857 - accuracy: 0.7618\n",
      "Epoch 2/10\n",
      "176/176 [==============================] - 1s 3ms/step - loss: 0.4300 - accuracy: 0.7922\n",
      "Epoch 3/10\n",
      "176/176 [==============================] - 1s 3ms/step - loss: 0.4228 - accuracy: 0.7954\n",
      "Epoch 4/10\n",
      "176/176 [==============================] - 1s 3ms/step - loss: 0.4193 - accuracy: 0.7986\n",
      "Epoch 5/10\n",
      "176/176 [==============================] - 1s 3ms/step - loss: 0.4177 - accuracy: 0.7996\n",
      "Epoch 6/10\n",
      "176/176 [==============================] - 0s 3ms/step - loss: 0.4159 - accuracy: 0.8032\n",
      "Epoch 7/10\n",
      "176/176 [==============================] - 1s 3ms/step - loss: 0.4153 - accuracy: 0.8037\n",
      "Epoch 8/10\n",
      "176/176 [==============================] - 1s 3ms/step - loss: 0.4145 - accuracy: 0.8066\n",
      "Epoch 9/10\n",
      "176/176 [==============================] - 0s 3ms/step - loss: 0.4142 - accuracy: 0.8053\n",
      "Epoch 10/10\n",
      "176/176 [==============================] - 1s 3ms/step - loss: 0.4127 - accuracy: 0.8052\n",
      "44/44 [==============================] - 0s 3ms/step - loss: 0.4175 - accuracy: 0.8117\n",
      "[0.4175184369087219, 0.8116559982299805]\n",
      "44/44 [==============================] - 0s 2ms/step\n",
      "Classification report :\n",
      "                precision    recall  f1-score   support\n",
      "\n",
      "           0       0.85      0.91      0.88      1040\n",
      "           1       0.67      0.54      0.60       367\n",
      "\n",
      "    accuracy                           0.81      1407\n",
      "   macro avg       0.76      0.72      0.74      1407\n",
      "weighted avg       0.80      0.81      0.80      1407\n",
      "\n"
     ]
    }
   ],
   "source": [
    "y_predictions = ANN(x_train , y_train , x_test , y_test , 'binary_crossentropy' , -1 )"
   ]
  },
  {
   "cell_type": "code",
   "execution_count": 25,
   "metadata": {},
   "outputs": [],
   "source": [
    "## precision , recall and f1 score of class 1 is very low "
   ]
  },
  {
   "cell_type": "code",
   "execution_count": 28,
   "metadata": {},
   "outputs": [
    {
     "data": {
      "text/plain": [
       "0    4123\n",
       "1    1502\n",
       "Name: Churn, dtype: int64"
      ]
     },
     "execution_count": 28,
     "metadata": {},
     "output_type": "execute_result"
    }
   ],
   "source": [
    "y_train.value_counts()"
   ]
  },
  {
   "cell_type": "code",
   "execution_count": 26,
   "metadata": {},
   "outputs": [],
   "source": [
    "# 1. undersampling "
   ]
  },
  {
   "cell_type": "code",
   "execution_count": 29,
   "metadata": {},
   "outputs": [],
   "source": [
    "df_clean_0 = df_clean[df_clean['Churn'] == 0]\n",
    "df_clean_1 = df_clean[df_clean['Churn'] == 1]"
   ]
  },
  {
   "cell_type": "code",
   "execution_count": 30,
   "metadata": {},
   "outputs": [
    {
     "data": {
      "text/plain": [
       "((5163, 27), (1869, 27))"
      ]
     },
     "execution_count": 30,
     "metadata": {},
     "output_type": "execute_result"
    }
   ],
   "source": [
    "df_clean_0.shape , df_clean_1.shape"
   ]
  },
  {
   "cell_type": "code",
   "execution_count": 33,
   "metadata": {},
   "outputs": [
    {
     "data": {
      "text/plain": [
       "5163"
      ]
     },
     "execution_count": 33,
     "metadata": {},
     "output_type": "execute_result"
    }
   ],
   "source": [
    "count_0 = df_clean_0.shape[0]\n",
    "count_0"
   ]
  },
  {
   "cell_type": "code",
   "execution_count": 35,
   "metadata": {},
   "outputs": [
    {
     "data": {
      "text/plain": [
       "1869"
      ]
     },
     "execution_count": 35,
     "metadata": {},
     "output_type": "execute_result"
    }
   ],
   "source": [
    "count_1 = df_clean_1.shape[0]\n",
    "count_1"
   ]
  },
  {
   "cell_type": "code",
   "execution_count": 31,
   "metadata": {},
   "outputs": [],
   "source": [
    "#undersample the 0 class , take only as many elements as class 1 has "
   ]
  },
  {
   "cell_type": "code",
   "execution_count": 36,
   "metadata": {},
   "outputs": [
    {
     "data": {
      "text/plain": [
       "(1869, 27)"
      ]
     },
     "execution_count": 36,
     "metadata": {},
     "output_type": "execute_result"
    }
   ],
   "source": [
    "df_clean_0.sample(count_1).shape"
   ]
  },
  {
   "cell_type": "code",
   "execution_count": 37,
   "metadata": {},
   "outputs": [],
   "source": [
    "df_clean_0_under = df_clean_0.sample(count_1)"
   ]
  },
  {
   "cell_type": "code",
   "execution_count": 40,
   "metadata": {},
   "outputs": [
    {
     "data": {
      "text/html": [
       "<div>\n",
       "<style scoped>\n",
       "    .dataframe tbody tr th:only-of-type {\n",
       "        vertical-align: middle;\n",
       "    }\n",
       "\n",
       "    .dataframe tbody tr th {\n",
       "        vertical-align: top;\n",
       "    }\n",
       "\n",
       "    .dataframe thead th {\n",
       "        text-align: right;\n",
       "    }\n",
       "</style>\n",
       "<table border=\"1\" class=\"dataframe\">\n",
       "  <thead>\n",
       "    <tr style=\"text-align: right;\">\n",
       "      <th></th>\n",
       "      <th>gender</th>\n",
       "      <th>SeniorCitizen</th>\n",
       "      <th>Partner</th>\n",
       "      <th>Dependents</th>\n",
       "      <th>tenure</th>\n",
       "      <th>PhoneService</th>\n",
       "      <th>MultipleLines</th>\n",
       "      <th>OnlineSecurity</th>\n",
       "      <th>OnlineBackup</th>\n",
       "      <th>DeviceProtection</th>\n",
       "      <th>...</th>\n",
       "      <th>Contract_Month-to-month</th>\n",
       "      <th>Contract_One year</th>\n",
       "      <th>Contract_Two year</th>\n",
       "      <th>PaymentMethod_Bank transfer (automatic)</th>\n",
       "      <th>PaymentMethod_Credit card (automatic)</th>\n",
       "      <th>PaymentMethod_Electronic check</th>\n",
       "      <th>PaymentMethod_Mailed check</th>\n",
       "      <th>InternetService_DSL</th>\n",
       "      <th>InternetService_Fiber optic</th>\n",
       "      <th>InternetService_No</th>\n",
       "    </tr>\n",
       "  </thead>\n",
       "  <tbody>\n",
       "    <tr>\n",
       "      <th>6254</th>\n",
       "      <td>1</td>\n",
       "      <td>0</td>\n",
       "      <td>0</td>\n",
       "      <td>0</td>\n",
       "      <td>0.338028</td>\n",
       "      <td>0</td>\n",
       "      <td>0</td>\n",
       "      <td>0</td>\n",
       "      <td>0</td>\n",
       "      <td>1</td>\n",
       "      <td>...</td>\n",
       "      <td>0</td>\n",
       "      <td>1</td>\n",
       "      <td>0</td>\n",
       "      <td>0</td>\n",
       "      <td>0</td>\n",
       "      <td>1</td>\n",
       "      <td>0</td>\n",
       "      <td>1</td>\n",
       "      <td>0</td>\n",
       "      <td>0</td>\n",
       "    </tr>\n",
       "    <tr>\n",
       "      <th>5762</th>\n",
       "      <td>1</td>\n",
       "      <td>0</td>\n",
       "      <td>0</td>\n",
       "      <td>0</td>\n",
       "      <td>0.154930</td>\n",
       "      <td>1</td>\n",
       "      <td>0</td>\n",
       "      <td>0</td>\n",
       "      <td>0</td>\n",
       "      <td>0</td>\n",
       "      <td>...</td>\n",
       "      <td>1</td>\n",
       "      <td>0</td>\n",
       "      <td>0</td>\n",
       "      <td>0</td>\n",
       "      <td>0</td>\n",
       "      <td>0</td>\n",
       "      <td>1</td>\n",
       "      <td>0</td>\n",
       "      <td>0</td>\n",
       "      <td>1</td>\n",
       "    </tr>\n",
       "    <tr>\n",
       "      <th>4508</th>\n",
       "      <td>0</td>\n",
       "      <td>0</td>\n",
       "      <td>1</td>\n",
       "      <td>1</td>\n",
       "      <td>1.000000</td>\n",
       "      <td>1</td>\n",
       "      <td>1</td>\n",
       "      <td>1</td>\n",
       "      <td>1</td>\n",
       "      <td>1</td>\n",
       "      <td>...</td>\n",
       "      <td>0</td>\n",
       "      <td>0</td>\n",
       "      <td>1</td>\n",
       "      <td>1</td>\n",
       "      <td>0</td>\n",
       "      <td>0</td>\n",
       "      <td>0</td>\n",
       "      <td>1</td>\n",
       "      <td>0</td>\n",
       "      <td>0</td>\n",
       "    </tr>\n",
       "    <tr>\n",
       "      <th>35</th>\n",
       "      <td>1</td>\n",
       "      <td>0</td>\n",
       "      <td>1</td>\n",
       "      <td>1</td>\n",
       "      <td>1.000000</td>\n",
       "      <td>1</td>\n",
       "      <td>1</td>\n",
       "      <td>1</td>\n",
       "      <td>1</td>\n",
       "      <td>0</td>\n",
       "      <td>...</td>\n",
       "      <td>0</td>\n",
       "      <td>0</td>\n",
       "      <td>1</td>\n",
       "      <td>1</td>\n",
       "      <td>0</td>\n",
       "      <td>0</td>\n",
       "      <td>0</td>\n",
       "      <td>0</td>\n",
       "      <td>1</td>\n",
       "      <td>0</td>\n",
       "    </tr>\n",
       "    <tr>\n",
       "      <th>2364</th>\n",
       "      <td>0</td>\n",
       "      <td>0</td>\n",
       "      <td>0</td>\n",
       "      <td>0</td>\n",
       "      <td>0.887324</td>\n",
       "      <td>1</td>\n",
       "      <td>1</td>\n",
       "      <td>1</td>\n",
       "      <td>0</td>\n",
       "      <td>1</td>\n",
       "      <td>...</td>\n",
       "      <td>0</td>\n",
       "      <td>0</td>\n",
       "      <td>1</td>\n",
       "      <td>0</td>\n",
       "      <td>1</td>\n",
       "      <td>0</td>\n",
       "      <td>0</td>\n",
       "      <td>0</td>\n",
       "      <td>1</td>\n",
       "      <td>0</td>\n",
       "    </tr>\n",
       "    <tr>\n",
       "      <th>...</th>\n",
       "      <td>...</td>\n",
       "      <td>...</td>\n",
       "      <td>...</td>\n",
       "      <td>...</td>\n",
       "      <td>...</td>\n",
       "      <td>...</td>\n",
       "      <td>...</td>\n",
       "      <td>...</td>\n",
       "      <td>...</td>\n",
       "      <td>...</td>\n",
       "      <td>...</td>\n",
       "      <td>...</td>\n",
       "      <td>...</td>\n",
       "      <td>...</td>\n",
       "      <td>...</td>\n",
       "      <td>...</td>\n",
       "      <td>...</td>\n",
       "      <td>...</td>\n",
       "      <td>...</td>\n",
       "      <td>...</td>\n",
       "      <td>...</td>\n",
       "    </tr>\n",
       "    <tr>\n",
       "      <th>7010</th>\n",
       "      <td>0</td>\n",
       "      <td>0</td>\n",
       "      <td>0</td>\n",
       "      <td>0</td>\n",
       "      <td>0.154930</td>\n",
       "      <td>1</td>\n",
       "      <td>0</td>\n",
       "      <td>0</td>\n",
       "      <td>0</td>\n",
       "      <td>0</td>\n",
       "      <td>...</td>\n",
       "      <td>0</td>\n",
       "      <td>1</td>\n",
       "      <td>0</td>\n",
       "      <td>0</td>\n",
       "      <td>0</td>\n",
       "      <td>1</td>\n",
       "      <td>0</td>\n",
       "      <td>1</td>\n",
       "      <td>0</td>\n",
       "      <td>0</td>\n",
       "    </tr>\n",
       "    <tr>\n",
       "      <th>7015</th>\n",
       "      <td>1</td>\n",
       "      <td>0</td>\n",
       "      <td>0</td>\n",
       "      <td>0</td>\n",
       "      <td>0.112676</td>\n",
       "      <td>1</td>\n",
       "      <td>0</td>\n",
       "      <td>0</td>\n",
       "      <td>0</td>\n",
       "      <td>0</td>\n",
       "      <td>...</td>\n",
       "      <td>1</td>\n",
       "      <td>0</td>\n",
       "      <td>0</td>\n",
       "      <td>1</td>\n",
       "      <td>0</td>\n",
       "      <td>0</td>\n",
       "      <td>0</td>\n",
       "      <td>1</td>\n",
       "      <td>0</td>\n",
       "      <td>0</td>\n",
       "    </tr>\n",
       "    <tr>\n",
       "      <th>7021</th>\n",
       "      <td>0</td>\n",
       "      <td>1</td>\n",
       "      <td>0</td>\n",
       "      <td>0</td>\n",
       "      <td>0.000000</td>\n",
       "      <td>1</td>\n",
       "      <td>1</td>\n",
       "      <td>0</td>\n",
       "      <td>0</td>\n",
       "      <td>0</td>\n",
       "      <td>...</td>\n",
       "      <td>1</td>\n",
       "      <td>0</td>\n",
       "      <td>0</td>\n",
       "      <td>0</td>\n",
       "      <td>0</td>\n",
       "      <td>1</td>\n",
       "      <td>0</td>\n",
       "      <td>0</td>\n",
       "      <td>1</td>\n",
       "      <td>0</td>\n",
       "    </tr>\n",
       "    <tr>\n",
       "      <th>7023</th>\n",
       "      <td>1</td>\n",
       "      <td>0</td>\n",
       "      <td>0</td>\n",
       "      <td>0</td>\n",
       "      <td>0.929577</td>\n",
       "      <td>1</td>\n",
       "      <td>1</td>\n",
       "      <td>1</td>\n",
       "      <td>1</td>\n",
       "      <td>1</td>\n",
       "      <td>...</td>\n",
       "      <td>1</td>\n",
       "      <td>0</td>\n",
       "      <td>0</td>\n",
       "      <td>0</td>\n",
       "      <td>1</td>\n",
       "      <td>0</td>\n",
       "      <td>0</td>\n",
       "      <td>0</td>\n",
       "      <td>1</td>\n",
       "      <td>0</td>\n",
       "    </tr>\n",
       "    <tr>\n",
       "      <th>7030</th>\n",
       "      <td>0</td>\n",
       "      <td>1</td>\n",
       "      <td>1</td>\n",
       "      <td>0</td>\n",
       "      <td>0.042254</td>\n",
       "      <td>1</td>\n",
       "      <td>1</td>\n",
       "      <td>0</td>\n",
       "      <td>0</td>\n",
       "      <td>0</td>\n",
       "      <td>...</td>\n",
       "      <td>1</td>\n",
       "      <td>0</td>\n",
       "      <td>0</td>\n",
       "      <td>0</td>\n",
       "      <td>0</td>\n",
       "      <td>0</td>\n",
       "      <td>1</td>\n",
       "      <td>0</td>\n",
       "      <td>1</td>\n",
       "      <td>0</td>\n",
       "    </tr>\n",
       "  </tbody>\n",
       "</table>\n",
       "<p>3738 rows × 27 columns</p>\n",
       "</div>"
      ],
      "text/plain": [
       "      gender  SeniorCitizen  Partner  Dependents    tenure  PhoneService  \\\n",
       "6254       1              0        0           0  0.338028             0   \n",
       "5762       1              0        0           0  0.154930             1   \n",
       "4508       0              0        1           1  1.000000             1   \n",
       "35         1              0        1           1  1.000000             1   \n",
       "2364       0              0        0           0  0.887324             1   \n",
       "...      ...            ...      ...         ...       ...           ...   \n",
       "7010       0              0        0           0  0.154930             1   \n",
       "7015       1              0        0           0  0.112676             1   \n",
       "7021       0              1        0           0  0.000000             1   \n",
       "7023       1              0        0           0  0.929577             1   \n",
       "7030       0              1        1           0  0.042254             1   \n",
       "\n",
       "      MultipleLines  OnlineSecurity  OnlineBackup  DeviceProtection  ...  \\\n",
       "6254              0               0             0                 1  ...   \n",
       "5762              0               0             0                 0  ...   \n",
       "4508              1               1             1                 1  ...   \n",
       "35                1               1             1                 0  ...   \n",
       "2364              1               1             0                 1  ...   \n",
       "...             ...             ...           ...               ...  ...   \n",
       "7010              0               0             0                 0  ...   \n",
       "7015              0               0             0                 0  ...   \n",
       "7021              1               0             0                 0  ...   \n",
       "7023              1               1             1                 1  ...   \n",
       "7030              1               0             0                 0  ...   \n",
       "\n",
       "      Contract_Month-to-month  Contract_One year  Contract_Two year  \\\n",
       "6254                        0                  1                  0   \n",
       "5762                        1                  0                  0   \n",
       "4508                        0                  0                  1   \n",
       "35                          0                  0                  1   \n",
       "2364                        0                  0                  1   \n",
       "...                       ...                ...                ...   \n",
       "7010                        0                  1                  0   \n",
       "7015                        1                  0                  0   \n",
       "7021                        1                  0                  0   \n",
       "7023                        1                  0                  0   \n",
       "7030                        1                  0                  0   \n",
       "\n",
       "      PaymentMethod_Bank transfer (automatic)  \\\n",
       "6254                                        0   \n",
       "5762                                        0   \n",
       "4508                                        1   \n",
       "35                                          1   \n",
       "2364                                        0   \n",
       "...                                       ...   \n",
       "7010                                        0   \n",
       "7015                                        1   \n",
       "7021                                        0   \n",
       "7023                                        0   \n",
       "7030                                        0   \n",
       "\n",
       "      PaymentMethod_Credit card (automatic)  PaymentMethod_Electronic check  \\\n",
       "6254                                      0                               1   \n",
       "5762                                      0                               0   \n",
       "4508                                      0                               0   \n",
       "35                                        0                               0   \n",
       "2364                                      1                               0   \n",
       "...                                     ...                             ...   \n",
       "7010                                      0                               1   \n",
       "7015                                      0                               0   \n",
       "7021                                      0                               1   \n",
       "7023                                      1                               0   \n",
       "7030                                      0                               0   \n",
       "\n",
       "      PaymentMethod_Mailed check  InternetService_DSL  \\\n",
       "6254                           0                    1   \n",
       "5762                           1                    0   \n",
       "4508                           0                    1   \n",
       "35                             0                    0   \n",
       "2364                           0                    0   \n",
       "...                          ...                  ...   \n",
       "7010                           0                    1   \n",
       "7015                           0                    1   \n",
       "7021                           0                    0   \n",
       "7023                           0                    0   \n",
       "7030                           1                    0   \n",
       "\n",
       "      InternetService_Fiber optic  InternetService_No  \n",
       "6254                            0                   0  \n",
       "5762                            0                   1  \n",
       "4508                            0                   0  \n",
       "35                              1                   0  \n",
       "2364                            1                   0  \n",
       "...                           ...                 ...  \n",
       "7010                            0                   0  \n",
       "7015                            0                   0  \n",
       "7021                            1                   0  \n",
       "7023                            1                   0  \n",
       "7030                            1                   0  \n",
       "\n",
       "[3738 rows x 27 columns]"
      ]
     },
     "execution_count": 40,
     "metadata": {},
     "output_type": "execute_result"
    }
   ],
   "source": [
    "df_under_combined_0 = pd.concat([df_clean_0_under , df_clean_1] , axis = 0 )\n",
    "df_under_combined_0"
   ]
  },
  {
   "cell_type": "code",
   "execution_count": 41,
   "metadata": {},
   "outputs": [
    {
     "data": {
      "text/plain": [
       "(3738, 27)"
      ]
     },
     "execution_count": 41,
     "metadata": {},
     "output_type": "execute_result"
    }
   ],
   "source": [
    "df_under_combined_0.shape"
   ]
  },
  {
   "cell_type": "code",
   "execution_count": 43,
   "metadata": {},
   "outputs": [
    {
     "data": {
      "text/plain": [
       "0    1869\n",
       "1    1869\n",
       "Name: Churn, dtype: int64"
      ]
     },
     "execution_count": 43,
     "metadata": {},
     "output_type": "execute_result"
    }
   ],
   "source": [
    "df_under_combined_0.Churn.value_counts()"
   ]
  },
  {
   "cell_type": "code",
   "execution_count": 45,
   "metadata": {},
   "outputs": [
    {
     "data": {
      "text/plain": [
       "(2990, 26)"
      ]
     },
     "execution_count": 45,
     "metadata": {},
     "output_type": "execute_result"
    }
   ],
   "source": [
    "x = df_under_combined_0.drop(['Churn'] , axis = 'columns')\n",
    "y = df_under_combined_0['Churn']\n",
    "\n",
    "from sklearn.model_selection import train_test_split\n",
    "x_train , x_test , y_train , y_test = train_test_split(x , y , test_size = 0.2 , random_state = 15,  stratify = y)\n",
    "x_train.shape"
   ]
  },
  {
   "cell_type": "code",
   "execution_count": 47,
   "metadata": {},
   "outputs": [
    {
     "data": {
      "text/plain": [
       "0    1495\n",
       "1    1495\n",
       "Name: Churn, dtype: int64"
      ]
     },
     "execution_count": 47,
     "metadata": {},
     "output_type": "execute_result"
    }
   ],
   "source": [
    "y_train.value_counts()  # same number of both classes "
   ]
  },
  {
   "cell_type": "code",
   "execution_count": 46,
   "metadata": {},
   "outputs": [
    {
     "name": "stdout",
     "output_type": "stream",
     "text": [
      "Epoch 1/10\n",
      "94/94 [==============================] - 1s 3ms/step - loss: 0.6078 - accuracy: 0.6983\n",
      "Epoch 2/10\n",
      "94/94 [==============================] - 0s 4ms/step - loss: 0.5187 - accuracy: 0.7562\n",
      "Epoch 3/10\n",
      "94/94 [==============================] - 0s 3ms/step - loss: 0.5009 - accuracy: 0.7632\n",
      "Epoch 4/10\n",
      "94/94 [==============================] - 0s 3ms/step - loss: 0.4949 - accuracy: 0.7672\n",
      "Epoch 5/10\n",
      "94/94 [==============================] - 0s 3ms/step - loss: 0.4910 - accuracy: 0.7629\n",
      "Epoch 6/10\n",
      "94/94 [==============================] - 0s 3ms/step - loss: 0.4882 - accuracy: 0.7669\n",
      "Epoch 7/10\n",
      "94/94 [==============================] - 0s 3ms/step - loss: 0.4854 - accuracy: 0.7662\n",
      "Epoch 8/10\n",
      "94/94 [==============================] - 0s 3ms/step - loss: 0.4843 - accuracy: 0.7676\n",
      "Epoch 9/10\n",
      "94/94 [==============================] - 0s 3ms/step - loss: 0.4824 - accuracy: 0.7682\n",
      "Epoch 10/10\n",
      "94/94 [==============================] - 0s 3ms/step - loss: 0.4817 - accuracy: 0.7706\n",
      "24/24 [==============================] - 0s 3ms/step - loss: 0.5198 - accuracy: 0.7353\n",
      "[0.5197998285293579, 0.7352941036224365]\n",
      "24/24 [==============================] - 0s 3ms/step\n",
      "Classification report :\n",
      "                precision    recall  f1-score   support\n",
      "\n",
      "           0       0.75      0.71      0.73       374\n",
      "           1       0.72      0.76      0.74       374\n",
      "\n",
      "    accuracy                           0.74       748\n",
      "   macro avg       0.74      0.74      0.74       748\n",
      "weighted avg       0.74      0.74      0.74       748\n",
      "\n"
     ]
    }
   ],
   "source": [
    "y_predictions = ANN(x_train , y_train , x_test , y_test , 'binary_crossentropy' , -1 )"
   ]
  },
  {
   "cell_type": "code",
   "execution_count": 48,
   "metadata": {},
   "outputs": [],
   "source": [
    "#### precision , recall , f1-score improved for class 1 "
   ]
  },
  {
   "cell_type": "markdown",
   "metadata": {},
   "source": [
    "### oversampling "
   ]
  },
  {
   "cell_type": "code",
   "execution_count": 49,
   "metadata": {},
   "outputs": [
    {
     "data": {
      "text/plain": [
       "((5163, 27), (1869, 27))"
      ]
     },
     "execution_count": 49,
     "metadata": {},
     "output_type": "execute_result"
    }
   ],
   "source": [
    "df_clean_0.shape , df_clean_1.shape"
   ]
  },
  {
   "cell_type": "code",
   "execution_count": 52,
   "metadata": {},
   "outputs": [
    {
     "data": {
      "text/plain": [
       "(5163, 27)"
      ]
     },
     "execution_count": 52,
     "metadata": {},
     "output_type": "execute_result"
    }
   ],
   "source": [
    "df_class_oversample = df_clean_1.sample( df_clean_0.shape[0] , replace = True)  ## replace generates random samples for us \n",
    "\n",
    "df_class_oversample.shape"
   ]
  },
  {
   "cell_type": "code",
   "execution_count": 53,
   "metadata": {},
   "outputs": [],
   "source": [
    "df_model_oversample = pd.concat([df_class_oversample , df_clean_0 ] , axis = 0)"
   ]
  },
  {
   "cell_type": "code",
   "execution_count": 54,
   "metadata": {},
   "outputs": [
    {
     "data": {
      "text/plain": [
       "(10326, 27)"
      ]
     },
     "execution_count": 54,
     "metadata": {},
     "output_type": "execute_result"
    }
   ],
   "source": [
    "df_model_oversample.shape"
   ]
  },
  {
   "cell_type": "code",
   "execution_count": 57,
   "metadata": {},
   "outputs": [
    {
     "data": {
      "text/plain": [
       "1    5163\n",
       "0    5163\n",
       "Name: Churn, dtype: int64"
      ]
     },
     "execution_count": 57,
     "metadata": {},
     "output_type": "execute_result"
    }
   ],
   "source": [
    "df_model_oversample.Churn.value_counts()"
   ]
  },
  {
   "cell_type": "code",
   "execution_count": null,
   "metadata": {},
   "outputs": [],
   "source": []
  },
  {
   "cell_type": "code",
   "execution_count": 58,
   "metadata": {},
   "outputs": [
    {
     "data": {
      "text/plain": [
       "(8260, 26)"
      ]
     },
     "execution_count": 58,
     "metadata": {},
     "output_type": "execute_result"
    }
   ],
   "source": [
    "x = df_model_oversample.drop(['Churn'] , axis = 'columns')\n",
    "y = df_model_oversample['Churn']\n",
    "\n",
    "from sklearn.model_selection import train_test_split\n",
    "x_train , x_test , y_train , y_test = train_test_split(x , y , test_size = 0.2 , random_state = 15,  stratify = y)\n",
    "x_train.shape"
   ]
  },
  {
   "cell_type": "code",
   "execution_count": 60,
   "metadata": {},
   "outputs": [
    {
     "data": {
      "text/plain": [
       "1    4130\n",
       "0    4130\n",
       "Name: Churn, dtype: int64"
      ]
     },
     "execution_count": 60,
     "metadata": {},
     "output_type": "execute_result"
    }
   ],
   "source": [
    "y_train.value_counts()"
   ]
  },
  {
   "cell_type": "code",
   "execution_count": 59,
   "metadata": {},
   "outputs": [
    {
     "name": "stdout",
     "output_type": "stream",
     "text": [
      "Epoch 1/10\n",
      "259/259 [==============================] - 2s 3ms/step - loss: 0.5535 - accuracy: 0.7214\n",
      "Epoch 2/10\n",
      "259/259 [==============================] - 1s 3ms/step - loss: 0.4953 - accuracy: 0.7557\n",
      "Epoch 3/10\n",
      "259/259 [==============================] - 1s 3ms/step - loss: 0.4877 - accuracy: 0.7607\n",
      "Epoch 4/10\n",
      "259/259 [==============================] - 1s 3ms/step - loss: 0.4845 - accuracy: 0.7621\n",
      "Epoch 5/10\n",
      "259/259 [==============================] - 1s 3ms/step - loss: 0.4812 - accuracy: 0.7596\n",
      "Epoch 6/10\n",
      "259/259 [==============================] - 1s 3ms/step - loss: 0.4791 - accuracy: 0.7620\n",
      "Epoch 7/10\n",
      "259/259 [==============================] - 1s 3ms/step - loss: 0.4770 - accuracy: 0.7626\n",
      "Epoch 8/10\n",
      "259/259 [==============================] - 1s 3ms/step - loss: 0.4750 - accuracy: 0.7627\n",
      "Epoch 9/10\n",
      "259/259 [==============================] - 1s 3ms/step - loss: 0.4736 - accuracy: 0.7642\n",
      "Epoch 10/10\n",
      "259/259 [==============================] - 1s 3ms/step - loss: 0.4716 - accuracy: 0.7623\n",
      "65/65 [==============================] - 0s 2ms/step - loss: 0.4628 - accuracy: 0.7648\n",
      "[0.4628288447856903, 0.764762818813324]\n",
      "65/65 [==============================] - 0s 2ms/step\n",
      "Classification report :\n",
      "                precision    recall  f1-score   support\n",
      "\n",
      "           0       0.79      0.73      0.76      1033\n",
      "           1       0.75      0.80      0.77      1033\n",
      "\n",
      "    accuracy                           0.76      2066\n",
      "   macro avg       0.77      0.76      0.76      2066\n",
      "weighted avg       0.77      0.76      0.76      2066\n",
      "\n"
     ]
    }
   ],
   "source": [
    "y_predictions = ANN(x_train , y_train , x_test , y_test , 'binary_crossentropy' , -1 )"
   ]
  },
  {
   "cell_type": "markdown",
   "metadata": {},
   "source": [
    "### SMOTE "
   ]
  },
  {
   "cell_type": "code",
   "execution_count": 61,
   "metadata": {},
   "outputs": [],
   "source": [
    "## KNN to create new synthetic data points "
   ]
  },
  {
   "cell_type": "code",
   "execution_count": 62,
   "metadata": {},
   "outputs": [],
   "source": [
    "### original dataset "
   ]
  },
  {
   "cell_type": "code",
   "execution_count": 63,
   "metadata": {},
   "outputs": [],
   "source": [
    "x = df_clean.drop(['Churn'] , axis = 'columns')\n",
    "y = df_clean['Churn']"
   ]
  },
  {
   "cell_type": "code",
   "execution_count": 69,
   "metadata": {},
   "outputs": [
    {
     "data": {
      "text/plain": [
       "0    5163\n",
       "1    1869\n",
       "Name: Churn, dtype: int64"
      ]
     },
     "execution_count": 69,
     "metadata": {},
     "output_type": "execute_result"
    }
   ],
   "source": [
    "y.value_counts()"
   ]
  },
  {
   "cell_type": "code",
   "execution_count": 66,
   "metadata": {},
   "outputs": [],
   "source": [
    "### pip install -U imbalanced-learn\n",
    "from imblearn.over_sampling import SMOTE"
   ]
  },
  {
   "cell_type": "code",
   "execution_count": 68,
   "metadata": {},
   "outputs": [],
   "source": [
    "smote = SMOTE(sampling_strategy = 'minority')"
   ]
  },
  {
   "cell_type": "code",
   "execution_count": 71,
   "metadata": {},
   "outputs": [],
   "source": [
    "x_newsamples , y_newsamples = smote.fit_resample(x , y)"
   ]
  },
  {
   "cell_type": "code",
   "execution_count": 72,
   "metadata": {},
   "outputs": [
    {
     "data": {
      "text/plain": [
       "0    5163\n",
       "1    5163\n",
       "Name: Churn, dtype: int64"
      ]
     },
     "execution_count": 72,
     "metadata": {},
     "output_type": "execute_result"
    }
   ],
   "source": [
    "y_newsamples.value_counts()"
   ]
  },
  {
   "cell_type": "code",
   "execution_count": 77,
   "metadata": {},
   "outputs": [
    {
     "data": {
      "text/plain": [
       "(8260, 26)"
      ]
     },
     "execution_count": 77,
     "metadata": {},
     "output_type": "execute_result"
    }
   ],
   "source": [
    "\n",
    "\n",
    "from sklearn.model_selection import train_test_split\n",
    "x_train , x_test , y_train , y_test = train_test_split(x_newsamples , y_newsamples , test_size = 0.2 , random_state = 15,  stratify = y)\n",
    "x_train.shape"
   ]
  },
  {
   "cell_type": "code",
   "execution_count": 78,
   "metadata": {},
   "outputs": [
    {
     "data": {
      "text/plain": [
       "1    4135\n",
       "0    4125\n",
       "Name: Churn, dtype: int64"
      ]
     },
     "execution_count": 78,
     "metadata": {},
     "output_type": "execute_result"
    }
   ],
   "source": [
    "y_train.value_counts()"
   ]
  },
  {
   "cell_type": "code",
   "execution_count": 79,
   "metadata": {},
   "outputs": [
    {
     "name": "stdout",
     "output_type": "stream",
     "text": [
      "Epoch 1/10\n",
      "259/259 [==============================] - 1s 3ms/step - loss: 0.5364 - accuracy: 0.7401\n",
      "Epoch 2/10\n",
      "259/259 [==============================] - 1s 3ms/step - loss: 0.4712 - accuracy: 0.7751\n",
      "Epoch 3/10\n",
      "259/259 [==============================] - 1s 3ms/step - loss: 0.4626 - accuracy: 0.7800\n",
      "Epoch 4/10\n",
      "259/259 [==============================] - 1s 3ms/step - loss: 0.4581 - accuracy: 0.7792\n",
      "Epoch 5/10\n",
      "259/259 [==============================] - 1s 3ms/step - loss: 0.4545 - accuracy: 0.7794\n",
      "Epoch 6/10\n",
      "259/259 [==============================] - 1s 3ms/step - loss: 0.4514 - accuracy: 0.7856\n",
      "Epoch 7/10\n",
      "259/259 [==============================] - 1s 3ms/step - loss: 0.4486 - accuracy: 0.7837\n",
      "Epoch 8/10\n",
      "259/259 [==============================] - 1s 3ms/step - loss: 0.4458 - accuracy: 0.7870\n",
      "Epoch 9/10\n",
      "259/259 [==============================] - 1s 3ms/step - loss: 0.4434 - accuracy: 0.7887\n",
      "Epoch 10/10\n",
      "259/259 [==============================] - 1s 3ms/step - loss: 0.4409 - accuracy: 0.7933\n",
      "65/65 [==============================] - 0s 2ms/step - loss: 0.4588 - accuracy: 0.7744\n",
      "[0.45878276228904724, 0.7744433879852295]\n",
      "65/65 [==============================] - 0s 2ms/step\n",
      "Classification report :\n",
      "                precision    recall  f1-score   support\n",
      "\n",
      "           0       0.80      0.73      0.76      1038\n",
      "           1       0.75      0.82      0.78      1028\n",
      "\n",
      "    accuracy                           0.77      2066\n",
      "   macro avg       0.78      0.77      0.77      2066\n",
      "weighted avg       0.78      0.77      0.77      2066\n",
      "\n"
     ]
    }
   ],
   "source": [
    "y_predictions = ANN(x_train , y_train , x_test , y_test , 'binary_crossentropy' , -1 )"
   ]
  },
  {
   "cell_type": "markdown",
   "metadata": {},
   "source": [
    "## use ensemble with undersampling "
   ]
  },
  {
   "cell_type": "code",
   "execution_count": 80,
   "metadata": {},
   "outputs": [],
   "source": [
    "x = df_clean.drop(['Churn'] , axis = 'columns')\n",
    "y = df_clean['Churn']"
   ]
  },
  {
   "cell_type": "code",
   "execution_count": 84,
   "metadata": {},
   "outputs": [
    {
     "data": {
      "text/plain": [
       "0    4130\n",
       "1    1495\n",
       "Name: Churn, dtype: int64"
      ]
     },
     "execution_count": 84,
     "metadata": {},
     "output_type": "execute_result"
    }
   ],
   "source": [
    "from sklearn.model_selection import train_test_split\n",
    "x_train , x_test , y_train , y_test = train_test_split(x , y , test_size = 0.2 , random_state = 15,  stratify = y)\n",
    "y_train.value_counts()"
   ]
  },
  {
   "cell_type": "code",
   "execution_count": 90,
   "metadata": {},
   "outputs": [
    {
     "data": {
      "text/plain": [
       "Index(['gender', 'SeniorCitizen', 'Partner', 'Dependents', 'tenure',\n",
       "       'PhoneService', 'MultipleLines', 'OnlineSecurity', 'OnlineBackup',\n",
       "       'DeviceProtection', 'TechSupport', 'StreamingTV', 'StreamingMovies',\n",
       "       'PaperlessBilling', 'MonthlyCharges', 'TotalCharges',\n",
       "       'Contract_Month-to-month', 'Contract_One year', 'Contract_Two year',\n",
       "       'PaymentMethod_Bank transfer (automatic)',\n",
       "       'PaymentMethod_Credit card (automatic)',\n",
       "       'PaymentMethod_Electronic check', 'PaymentMethod_Mailed check',\n",
       "       'InternetService_DSL', 'InternetService_Fiber optic',\n",
       "       'InternetService_No'],\n",
       "      dtype='object')"
      ]
     },
     "execution_count": 90,
     "metadata": {},
     "output_type": "execute_result"
    }
   ],
   "source": [
    "x_train.columns"
   ]
  },
  {
   "cell_type": "code",
   "execution_count": 86,
   "metadata": {},
   "outputs": [
    {
     "data": {
      "text/plain": [
       "2.762541806020067"
      ]
     },
     "execution_count": 86,
     "metadata": {},
     "output_type": "execute_result"
    }
   ],
   "source": [
    "4130 / 1495"
   ]
  },
  {
   "cell_type": "code",
   "execution_count": 85,
   "metadata": {},
   "outputs": [],
   "source": [
    "#approx ration 1 : 3  , divide 0 class in 3 batchs "
   ]
  },
  {
   "cell_type": "code",
   "execution_count": 88,
   "metadata": {},
   "outputs": [],
   "source": [
    "df3 = x_train.copy()\n",
    "\n",
    "df3['Churn'] = y_train"
   ]
  },
  {
   "cell_type": "code",
   "execution_count": 92,
   "metadata": {},
   "outputs": [],
   "source": [
    "df3_class_0 = df3[df3.Churn == 0]\n",
    "df3_class_1 = df3[df3.Churn == 1]"
   ]
  },
  {
   "cell_type": "code",
   "execution_count": 94,
   "metadata": {},
   "outputs": [
    {
     "data": {
      "text/plain": [
       "((4130, 27), (1495, 27))"
      ]
     },
     "execution_count": 94,
     "metadata": {},
     "output_type": "execute_result"
    }
   ],
   "source": [
    "df3_class_0.shape , df3_class_1.shape"
   ]
  },
  {
   "cell_type": "code",
   "execution_count": 99,
   "metadata": {},
   "outputs": [],
   "source": [
    "def get_train_batch(df_majority , df_minority , start , end ):\n",
    "\n",
    "    df_train  = pd.concat([df_majority[start:end] , df_minority ]  , axis = 0)\n",
    "    #df_train.shape\n",
    "    \n",
    "    x_train = df_train.drop(['Churn'] , axis = 'columns')\n",
    "    y_train = df_train['Churn']\n",
    "    \n",
    "    return x_train , y_train "
   ]
  },
  {
   "cell_type": "code",
   "execution_count": 100,
   "metadata": {},
   "outputs": [],
   "source": [
    "x_train , y_train  = get_train_batch(df3_class_0 , df3_class_1 , 0 , 1495 )"
   ]
  },
  {
   "cell_type": "code",
   "execution_count": 101,
   "metadata": {},
   "outputs": [
    {
     "data": {
      "text/plain": [
       "(2990, 26)"
      ]
     },
     "execution_count": 101,
     "metadata": {},
     "output_type": "execute_result"
    }
   ],
   "source": [
    "x_train.shape"
   ]
  },
  {
   "cell_type": "code",
   "execution_count": 102,
   "metadata": {},
   "outputs": [
    {
     "data": {
      "text/plain": [
       "(1407, 26)"
      ]
     },
     "execution_count": 102,
     "metadata": {},
     "output_type": "execute_result"
    }
   ],
   "source": [
    "x_test.shape  ### mistake here "
   ]
  },
  {
   "cell_type": "code",
   "execution_count": 103,
   "metadata": {},
   "outputs": [
    {
     "name": "stdout",
     "output_type": "stream",
     "text": [
      "Epoch 1/10\n",
      "94/94 [==============================] - 1s 3ms/step - loss: 0.6626 - accuracy: 0.6251\n",
      "Epoch 2/10\n",
      "94/94 [==============================] - 0s 3ms/step - loss: 0.5383 - accuracy: 0.7572\n",
      "Epoch 3/10\n",
      "94/94 [==============================] - 0s 4ms/step - loss: 0.5027 - accuracy: 0.7659\n",
      "Epoch 4/10\n",
      "94/94 [==============================] - 0s 4ms/step - loss: 0.4931 - accuracy: 0.7672\n",
      "Epoch 5/10\n",
      "94/94 [==============================] - 0s 4ms/step - loss: 0.4881 - accuracy: 0.7692\n",
      "Epoch 6/10\n",
      "94/94 [==============================] - 0s 3ms/step - loss: 0.4850 - accuracy: 0.7679\n",
      "Epoch 7/10\n",
      "94/94 [==============================] - 0s 3ms/step - loss: 0.4836 - accuracy: 0.7672\n",
      "Epoch 8/10\n",
      "94/94 [==============================] - 0s 4ms/step - loss: 0.4823 - accuracy: 0.7659\n",
      "Epoch 9/10\n",
      "94/94 [==============================] - 0s 4ms/step - loss: 0.4809 - accuracy: 0.7659\n",
      "Epoch 10/10\n",
      "94/94 [==============================] - 0s 4ms/step - loss: 0.4794 - accuracy: 0.7672\n",
      "44/44 [==============================] - 0s 3ms/step - loss: 0.5003 - accuracy: 0.7498\n",
      "[0.5002962946891785, 0.7498223185539246]\n",
      "44/44 [==============================] - 0s 3ms/step\n",
      "Classification report :\n",
      "                precision    recall  f1-score   support\n",
      "\n",
      "           0       0.90      0.74      0.81      1033\n",
      "           1       0.52      0.78      0.62       374\n",
      "\n",
      "    accuracy                           0.75      1407\n",
      "   macro avg       0.71      0.76      0.72      1407\n",
      "weighted avg       0.80      0.75      0.76      1407\n",
      "\n"
     ]
    }
   ],
   "source": [
    "y_pred1 = ANN(x_train , y_train , x_test , y_test , 'binary_crossentropy' , -1 )"
   ]
  },
  {
   "cell_type": "code",
   "execution_count": 104,
   "metadata": {},
   "outputs": [
    {
     "name": "stdout",
     "output_type": "stream",
     "text": [
      "Epoch 1/10\n",
      "94/94 [==============================] - 1s 3ms/step - loss: 0.6138 - accuracy: 0.6512\n",
      "Epoch 2/10\n",
      "94/94 [==============================] - 0s 3ms/step - loss: 0.5181 - accuracy: 0.7492\n",
      "Epoch 3/10\n",
      "94/94 [==============================] - 0s 3ms/step - loss: 0.5004 - accuracy: 0.7508\n",
      "Epoch 4/10\n",
      "94/94 [==============================] - 0s 3ms/step - loss: 0.4939 - accuracy: 0.7582\n",
      "Epoch 5/10\n",
      "94/94 [==============================] - 0s 3ms/step - loss: 0.4903 - accuracy: 0.7572\n",
      "Epoch 6/10\n",
      "94/94 [==============================] - 0s 3ms/step - loss: 0.4869 - accuracy: 0.7612\n",
      "Epoch 7/10\n",
      "94/94 [==============================] - 0s 3ms/step - loss: 0.4845 - accuracy: 0.7632\n",
      "Epoch 8/10\n",
      "94/94 [==============================] - 0s 3ms/step - loss: 0.4826 - accuracy: 0.7642\n",
      "Epoch 9/10\n",
      "94/94 [==============================] - 0s 3ms/step - loss: 0.4820 - accuracy: 0.7599\n",
      "Epoch 10/10\n",
      "94/94 [==============================] - 0s 3ms/step - loss: 0.4796 - accuracy: 0.7625\n",
      "44/44 [==============================] - 0s 2ms/step - loss: 0.4985 - accuracy: 0.7313\n",
      "[0.49854981899261475, 0.7313432693481445]\n",
      "44/44 [==============================] - 0s 2ms/step\n",
      "Classification report :\n",
      "                precision    recall  f1-score   support\n",
      "\n",
      "           0       0.90      0.71      0.80      1033\n",
      "           1       0.50      0.78      0.61       374\n",
      "\n",
      "    accuracy                           0.73      1407\n",
      "   macro avg       0.70      0.75      0.70      1407\n",
      "weighted avg       0.79      0.73      0.75      1407\n",
      "\n"
     ]
    }
   ],
   "source": [
    "x_train , y_train  = get_train_batch(df3_class_0 , df3_class_1 , 1495 , 2990 )\n",
    "\n",
    "y_pred2 = ANN(x_train , y_train , x_test , y_test , 'binary_crossentropy' , -1 )"
   ]
  },
  {
   "cell_type": "code",
   "execution_count": 105,
   "metadata": {},
   "outputs": [
    {
     "name": "stdout",
     "output_type": "stream",
     "text": [
      "Epoch 1/10\n",
      "83/83 [==============================] - 1s 3ms/step - loss: 0.6324 - accuracy: 0.6691\n",
      "Epoch 2/10\n",
      "83/83 [==============================] - 0s 3ms/step - loss: 0.5299 - accuracy: 0.7602\n",
      "Epoch 3/10\n",
      "83/83 [==============================] - 0s 3ms/step - loss: 0.4967 - accuracy: 0.7628\n",
      "Epoch 4/10\n",
      "83/83 [==============================] - 0s 3ms/step - loss: 0.4865 - accuracy: 0.7674\n",
      "Epoch 5/10\n",
      "83/83 [==============================] - 0s 3ms/step - loss: 0.4820 - accuracy: 0.7662\n",
      "Epoch 6/10\n",
      "83/83 [==============================] - 0s 3ms/step - loss: 0.4786 - accuracy: 0.7715\n",
      "Epoch 7/10\n",
      "83/83 [==============================] - 0s 3ms/step - loss: 0.4752 - accuracy: 0.7689\n",
      "Epoch 8/10\n",
      "83/83 [==============================] - 0s 3ms/step - loss: 0.4729 - accuracy: 0.7750\n",
      "Epoch 9/10\n",
      "83/83 [==============================] - 0s 3ms/step - loss: 0.4712 - accuracy: 0.7727\n",
      "Epoch 10/10\n",
      "83/83 [==============================] - 0s 3ms/step - loss: 0.4693 - accuracy: 0.7757\n",
      "44/44 [==============================] - 0s 2ms/step - loss: 0.5277 - accuracy: 0.7186\n",
      "[0.5276868343353271, 0.7185500860214233]\n",
      "44/44 [==============================] - 0s 2ms/step\n",
      "Classification report :\n",
      "                precision    recall  f1-score   support\n",
      "\n",
      "           0       0.91      0.69      0.78      1033\n",
      "           1       0.48      0.81      0.60       374\n",
      "\n",
      "    accuracy                           0.72      1407\n",
      "   macro avg       0.70      0.75      0.69      1407\n",
      "weighted avg       0.79      0.72      0.73      1407\n",
      "\n"
     ]
    }
   ],
   "source": [
    "x_train , y_train  = get_train_batch(df3_class_0 , df3_class_1 ,  2990  , 4130)\n",
    "\n",
    "y_pred3 = ANN(x_train , y_train , x_test , y_test , 'binary_crossentropy' , -1 )"
   ]
  },
  {
   "cell_type": "code",
   "execution_count": 106,
   "metadata": {},
   "outputs": [
    {
     "data": {
      "text/plain": [
       "1407"
      ]
     },
     "execution_count": 106,
     "metadata": {},
     "output_type": "execute_result"
    }
   ],
   "source": [
    "len(y_pred1)"
   ]
  },
  {
   "cell_type": "code",
   "execution_count": 109,
   "metadata": {},
   "outputs": [],
   "source": [
    "Y_pred_final = y_pred1.copy()\n",
    "\n",
    "for i in range(len(y_pred1)):\n",
    "    n_ones = y_pred1[i] + y_pred2[i] + y_pred3[i]  ### mistake here \n",
    "    \n",
    "    if n_ones > 1: ## only 3 classidiers are voting \n",
    "        Y_pred_final[i] = 1\n",
    "    else:\n",
    "        Y_pred_final[i] = 0\n",
    "\n",
    "            \n",
    "\n",
    "  "
   ]
  },
  {
   "cell_type": "code",
   "execution_count": 111,
   "metadata": {},
   "outputs": [
    {
     "name": "stdout",
     "output_type": "stream",
     "text": [
      "              precision    recall  f1-score   support\n",
      "\n",
      "           0       0.90      0.72      0.80      1033\n",
      "           1       0.50      0.78      0.61       374\n",
      "\n",
      "    accuracy                           0.74      1407\n",
      "   macro avg       0.70      0.75      0.71      1407\n",
      "weighted avg       0.80      0.74      0.75      1407\n",
      "\n"
     ]
    }
   ],
   "source": [
    "print(classification_report(y_test , Y_pred_final))"
   ]
  },
  {
   "cell_type": "code",
   "execution_count": null,
   "metadata": {},
   "outputs": [],
   "source": []
  }
 ],
 "metadata": {
  "kernelspec": {
   "display_name": "dl_tf",
   "language": "python",
   "name": "dl_tf"
  },
  "language_info": {
   "codemirror_mode": {
    "name": "ipython",
    "version": 3
   },
   "file_extension": ".py",
   "mimetype": "text/x-python",
   "name": "python",
   "nbconvert_exporter": "python",
   "pygments_lexer": "ipython3",
   "version": "3.8.5"
  },
  "varInspector": {
   "cols": {
    "lenName": 16,
    "lenType": 16,
    "lenVar": 40
   },
   "kernels_config": {
    "python": {
     "delete_cmd_postfix": "",
     "delete_cmd_prefix": "del ",
     "library": "var_list.py",
     "varRefreshCmd": "print(var_dic_list())"
    },
    "r": {
     "delete_cmd_postfix": ") ",
     "delete_cmd_prefix": "rm(",
     "library": "var_list.r",
     "varRefreshCmd": "cat(var_dic_list()) "
    }
   },
   "types_to_exclude": [
    "module",
    "function",
    "builtin_function_or_method",
    "instance",
    "_Feature"
   ],
   "window_display": false
  }
 },
 "nbformat": 4,
 "nbformat_minor": 4
}
